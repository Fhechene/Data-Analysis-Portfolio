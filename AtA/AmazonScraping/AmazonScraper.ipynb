{
 "cells": [
  {
   "cell_type": "code",
   "execution_count": 3,
   "id": "4bb77b80",
   "metadata": {},
   "outputs": [],
   "source": [
    "from bs4 import BeautifulSoup\n",
    "import requests\n",
    "import smtplib #emails a mi\n",
    "import time\n",
    "import datetime"
   ]
  },
  {
   "cell_type": "code",
   "execution_count": 5,
   "id": "fbbc20ae",
   "metadata": {},
   "outputs": [],
   "source": [
    "URL='https://www.amazon.com/SunSun-Hw303B-370GPH-Canister-Sterilizer/dp/B00MH2NRIQ/ref=sr_1_7?crid=36TX8E4OZQ52Z&keywords=canister+filter&qid=1681407758&sprefix=canister+filte%2Caps%2C247&sr=8-7'\n",
    "#https://httpbin.org/get\n",
    "headers={\"User-Agent\":\"Mozilla/5.0 (Windows NT 10.0; Win64; x64; rv:109.0) Gecko/20100101 Firefox/111.0\",\"Accept-Encoding\":\"gzip, deflate, br\",\"Accept\":\"text/html,application/xhtml+xml,application/xml;q=0.9,image/avif,image/webp,*/*;q=0.8\",\"DNT\":\"1\", \"Connection\":\"close\",\"Upgrade-Insecure-Requests\":\"1\"}\n"
   ]
  },
  {
   "cell_type": "code",
   "execution_count": null,
   "id": "74bea7d9",
   "metadata": {},
   "outputs": [],
   "source": []
  }
 ],
 "metadata": {
  "kernelspec": {
   "display_name": "Python 3 (ipykernel)",
   "language": "python",
   "name": "python3"
  },
  "language_info": {
   "codemirror_mode": {
    "name": "ipython",
    "version": 3
   },
   "file_extension": ".py",
   "mimetype": "text/x-python",
   "name": "python",
   "nbconvert_exporter": "python",
   "pygments_lexer": "ipython3",
   "version": "3.10.9"
  }
 },
 "nbformat": 4,
 "nbformat_minor": 5
}
